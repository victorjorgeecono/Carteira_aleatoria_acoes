{
  "nbformat": 4,
  "nbformat_minor": 0,
  "metadata": {
    "colab": {
      "name": "2_Carteira Aleatória ",
      "provenance": [],
      "authorship_tag": "ABX9TyN6GiLYAm/SUSKQCFKw2MTK",
      "include_colab_link": true
    },
    "kernelspec": {
      "name": "python3",
      "display_name": "Python 3"
    },
    "language_info": {
      "name": "python"
    }
  },
  "cells": [
    {
      "cell_type": "markdown",
      "metadata": {
        "id": "view-in-github",
        "colab_type": "text"
      },
      "source": [
        "<a href=\"https://colab.research.google.com/github/victorjorgeecono/Carteira_aleatoria_acoes/blob/main/2_Carteira_Aleat%C3%B3ria.ipynb\" target=\"_parent\"><img src=\"https://colab.research.google.com/assets/colab-badge.svg\" alt=\"Open In Colab\"/></a>"
      ]
    },
    {
      "cell_type": "code",
      "metadata": {
        "id": "To38JWEuQzNl"
      },
      "source": [
        "!pip install yfinance \n",
        "!pip install pandas\n",
        "!pip install numpy\n",
        "!pip install matplotlib.pyplot\n",
        "!pip install seaborn\n"
      ],
      "execution_count": null,
      "outputs": []
    },
    {
      "cell_type": "code",
      "metadata": {
        "id": "76Jhh6GXRb_W"
      },
      "source": [
        "import yfinance as yf\n",
        "import random"
      ],
      "execution_count": null,
      "outputs": []
    }
  ]
}