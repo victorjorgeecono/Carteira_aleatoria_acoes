{
  "nbformat": 4,
  "nbformat_minor": 0,
  "metadata": {
    "colab": {
      "name": "2_Carteira Aleatória ",
      "provenance": [],
      "authorship_tag": "ABX9TyN8AJIguLNQNJAXgkkluQCN",
      "include_colab_link": true
    },
    "kernelspec": {
      "name": "python3",
      "display_name": "Python 3"
    },
    "language_info": {
      "name": "python"
    }
  },
  "cells": [
    {
      "cell_type": "markdown",
      "metadata": {
        "id": "view-in-github",
        "colab_type": "text"
      },
      "source": [
        "<a href=\"https://colab.research.google.com/github/victorjorgeecono/Carteira_aleatoria_acoes/blob/main/2_Carteira_Aleat%C3%B3ria.ipynb\" target=\"_parent\"><img src=\"https://colab.research.google.com/assets/colab-badge.svg\" alt=\"Open In Colab\"/></a>"
      ]
    },
    {
      "cell_type": "code",
      "metadata": {
        "id": "To38JWEuQzNl"
      },
      "source": [
        "!pip install yfinance \n",
        "!pip install pandas\n",
        "!pip install numpy\n",
        "!pip install matplotlib.pyplot\n",
        "!pip install seaborn\n"
      ],
      "execution_count": null,
      "outputs": []
    },
    {
      "cell_type": "code",
      "metadata": {
        "id": "PoLXua8LSYXT"
      },
      "source": [
        "!pip install investpy"
      ],
      "execution_count": null,
      "outputs": []
    },
    {
      "cell_type": "code",
      "metadata": {
        "id": "76Jhh6GXRb_W"
      },
      "source": [
        "import investpy as inv\n",
        "import yfinance as yf\n",
        "import random as ra \n",
        "import pandas as pd\n",
        "import numpy as np\n",
        "import matplotlib.pyplot as plt\n",
        "import seaborn as sns\n",
        "sns.set()"
      ],
      "execution_count": 1,
      "outputs": []
    },
    {
      "cell_type": "code",
      "metadata": {
        "colab": {
          "base_uri": "https://localhost:8080/"
        },
        "id": "U0I4i0MaSGxE",
        "outputId": "bdf59361-3d3a-4bf6-eae6-cce740634fdf"
      },
      "source": [
        "acoes_listadas = inv.get_stocks_list(country= 'Brazil')\n",
        "acoes_listadas_aleatorias1= (ra.choices(acoes_listadas, k=6))\n",
        "acoes_listadas_aleatorias1"
      ],
      "execution_count": 89,
      "outputs": [
        {
          "output_type": "execute_result",
          "data": {
            "text/plain": [
              "['NUTR3', 'TESA3', 'ANCR11B', 'HALI34', 'CATP34', 'CORR4']"
            ]
          },
          "metadata": {
            "tags": []
          },
          "execution_count": 89
        }
      ]
    },
    {
      "cell_type": "code",
      "metadata": {
        "id": "pMTy8NJhamBf"
      },
      "source": [
        "coteminas_P = inv.get_stock_historical_data(stock='CTNM4', country= 'Brazil',from_date= '01/01/2020', to_date= '01/01/2021')['Close']\n",
        "coteminas_P.dropna()"
      ],
      "execution_count": null,
      "outputs": []
    },
    {
      "cell_type": "code",
      "metadata": {
        "id": "hzlwKM_8bUk0"
      },
      "source": [
        "bancoiinter_P = inv.get_stock_historical_data(stock= 'BIDI4' , country= 'Brazil',from_date= '01/01/2020', to_date= '01/01/2021')['Close'] \n",
        "bancoiinter_P.dropna()"
      ],
      "execution_count": null,
      "outputs": []
    },
    {
      "cell_type": "code",
      "metadata": {
        "id": "2VPZv2vWb3Kc"
      },
      "source": [
        "bancoabc_P = inv.get_stock_historical_data(stock= 'ABCB4' , country= 'Brazil',from_date= '01/01/2020', to_date= '01/01/2021')['Close'] \n",
        "bancoabc_P.dropna()"
      ],
      "execution_count": null,
      "outputs": []
    },
    {
      "cell_type": "code",
      "metadata": {
        "id": "jQwwrB-YmMa9"
      },
      "source": [
        "marfrig_O = inv.get_stock_historical_data(stock= 'MRFG3' , country= 'Brazil',from_date= '01/01/2020', to_date= '01/01/2021')['Close'] \n",
        "marfrig_O.dropna()"
      ],
      "execution_count": null,
      "outputs": []
    },
    {
      "cell_type": "code",
      "metadata": {
        "id": "GeuGXOPwncNK"
      },
      "source": [
        "viavarejo_O = inv.get_stock_historical_data(stock= 'VVAR3' , country= 'Brazil',from_date= '01/01/2020', to_date= '01/01/2021')['Close'] \n",
        "viavarejo_O.dropna()"
      ],
      "execution_count": null,
      "outputs": []
    },
    {
      "cell_type": "code",
      "metadata": {
        "id": "pLsjegoccCLB"
      },
      "source": [
        "carteira = pd.concat([coteminas_P, bancoiinter_P, bancoabc_P, marfrig_O], axis=1)\n",
        "carteira.columns = 'COTEMINGAS', 'BANCO INTER', 'BANCO ABC', 'MARFRIG', 'VIAVAREJO',\n"
      ],
      "execution_count": 87,
      "outputs": []
    }
  ]
}