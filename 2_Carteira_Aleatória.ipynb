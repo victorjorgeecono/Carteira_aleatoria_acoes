{
  "nbformat": 4,
  "nbformat_minor": 0,
  "metadata": {
    "colab": {
      "name": "2_Carteira Aleatória ",
      "provenance": [],
      "authorship_tag": "ABX9TyNUEzFWxn5xFybksC3Krbsp",
      "include_colab_link": true
    },
    "kernelspec": {
      "name": "python3",
      "display_name": "Python 3"
    },
    "language_info": {
      "name": "python"
    }
  },
  "cells": [
    {
      "cell_type": "markdown",
      "metadata": {
        "id": "view-in-github",
        "colab_type": "text"
      },
      "source": [
        "<a href=\"https://colab.research.google.com/github/victorjorgeecono/Carteira_aleatoria_acoes/blob/main/2_Carteira_Aleat%C3%B3ria.ipynb\" target=\"_parent\"><img src=\"https://colab.research.google.com/assets/colab-badge.svg\" alt=\"Open In Colab\"/></a>"
      ]
    },
    {
      "cell_type": "code",
      "metadata": {
        "id": "To38JWEuQzNl"
      },
      "source": [
        "!pip install yfinance \n",
        "!pip install pandas\n",
        "!pip install numpy\n",
        "!pip install matplotlib.pyplot\n",
        "!pip install seaborn\n"
      ],
      "execution_count": null,
      "outputs": []
    },
    {
      "cell_type": "code",
      "metadata": {
        "id": "PoLXua8LSYXT"
      },
      "source": [
        "!pip install investpy"
      ],
      "execution_count": null,
      "outputs": []
    },
    {
      "cell_type": "code",
      "metadata": {
        "id": "76Jhh6GXRb_W"
      },
      "source": [
        "import investpy as inv\n",
        "import yfinance as yf\n",
        "import random as ra \n",
        "import pandas as pd\n",
        "import numpy as np\n",
        "import matplotlib.pyplot as plt\n",
        "import pandas_datareader.data as web\n",
        "import seaborn as sns\n",
        "sns.set()"
      ],
      "execution_count": 3,
      "outputs": []
    },
    {
      "cell_type": "code",
      "metadata": {
        "id": "U0I4i0MaSGxE"
      },
      "source": [
        "acoes_listadas = inv.get_stocks_list(country= 'Brazil')\n",
        "carteira_1= (ra.choices(acoes_listadas, k=5))\n",
        "carteira_1"
      ],
      "execution_count": null,
      "outputs": []
    },
    {
      "cell_type": "code",
      "metadata": {
        "id": "cnGIJcoy09bC"
      },
      "source": [
        "data_inicial = '2019-12-01'\n",
        "data_final= '2021-12-01'"
      ],
      "execution_count": null,
      "outputs": []
    },
    {
      "cell_type": "code",
      "metadata": {
        "colab": {
          "base_uri": "https://localhost:8080/"
        },
        "id": "CdNbguWe1Ivx",
        "outputId": "e1bf98dd-92ce-4064-f52b-f35226f15e95"
      },
      "source": [
        "dados_aleat = carteira_1\n",
        "acoes_SA = []\n",
        "for item in dados_aleat:\n",
        "  acoes_SA.append(item + '.SA')\n",
        "\n",
        "acoes_SA"
      ],
      "execution_count": 79,
      "outputs": [
        {
          "output_type": "execute_result",
          "data": {
            "text/plain": [
              "['CXRI11.SA', 'SHOW3.SA', 'LAME4.SA', 'ALPA4.SA', 'DMAC11.SA']"
            ]
          },
          "metadata": {
            "tags": []
          },
          "execution_count": 79
        }
      ]
    },
    {
      "cell_type": "code",
      "metadata": {
        "colab": {
          "base_uri": "https://localhost:8080/",
          "height": 464
        },
        "id": "E1WzGgZf1K35",
        "outputId": "1923bf47-fd1d-4426-e3ff-0d3c4045676d"
      },
      "source": [
        "dados_yahoo = yf.download(acoes_SA, start= data_inicial, end= data_final)['Close']\n",
        "dados_yahoo"
      ],
      "execution_count": 84,
      "outputs": [
        {
          "output_type": "stream",
          "text": [
            "[*********************100%***********************]  5 of 5 completed\n"
          ],
          "name": "stdout"
        },
        {
          "output_type": "execute_result",
          "data": {
            "text/html": [
              "<div>\n",
              "<style scoped>\n",
              "    .dataframe tbody tr th:only-of-type {\n",
              "        vertical-align: middle;\n",
              "    }\n",
              "\n",
              "    .dataframe tbody tr th {\n",
              "        vertical-align: top;\n",
              "    }\n",
              "\n",
              "    .dataframe thead th {\n",
              "        text-align: right;\n",
              "    }\n",
              "</style>\n",
              "<table border=\"1\" class=\"dataframe\">\n",
              "  <thead>\n",
              "    <tr style=\"text-align: right;\">\n",
              "      <th></th>\n",
              "      <th>ALPA4.SA</th>\n",
              "      <th>CXRI11.SA</th>\n",
              "      <th>DMAC11.SA</th>\n",
              "      <th>LAME4.SA</th>\n",
              "      <th>SHOW3.SA</th>\n",
              "    </tr>\n",
              "    <tr>\n",
              "      <th>Date</th>\n",
              "      <th></th>\n",
              "      <th></th>\n",
              "      <th></th>\n",
              "      <th></th>\n",
              "      <th></th>\n",
              "    </tr>\n",
              "  </thead>\n",
              "  <tbody>\n",
              "    <tr>\n",
              "      <th>2019-12-02</th>\n",
              "      <td>31.160000</td>\n",
              "      <td>1385.290039</td>\n",
              "      <td>619.900024</td>\n",
              "      <td>22.652437</td>\n",
              "      <td>5.15</td>\n",
              "    </tr>\n",
              "    <tr>\n",
              "      <th>2019-12-03</th>\n",
              "      <td>31.150000</td>\n",
              "      <td>1359.900024</td>\n",
              "      <td>619.950012</td>\n",
              "      <td>22.921516</td>\n",
              "      <td>5.23</td>\n",
              "    </tr>\n",
              "    <tr>\n",
              "      <th>2019-12-04</th>\n",
              "      <td>31.150000</td>\n",
              "      <td>1359.000000</td>\n",
              "      <td>620.000000</td>\n",
              "      <td>23.041107</td>\n",
              "      <td>5.24</td>\n",
              "    </tr>\n",
              "    <tr>\n",
              "      <th>2019-12-05</th>\n",
              "      <td>31.299999</td>\n",
              "      <td>1410.000000</td>\n",
              "      <td>619.900024</td>\n",
              "      <td>22.961380</td>\n",
              "      <td>5.31</td>\n",
              "    </tr>\n",
              "    <tr>\n",
              "      <th>2019-12-06</th>\n",
              "      <td>32.049999</td>\n",
              "      <td>1405.000000</td>\n",
              "      <td>619.450012</td>\n",
              "      <td>24.585817</td>\n",
              "      <td>5.26</td>\n",
              "    </tr>\n",
              "    <tr>\n",
              "      <th>...</th>\n",
              "      <td>...</td>\n",
              "      <td>...</td>\n",
              "      <td>...</td>\n",
              "      <td>...</td>\n",
              "      <td>...</td>\n",
              "    </tr>\n",
              "    <tr>\n",
              "      <th>2021-07-15</th>\n",
              "      <td>52.220001</td>\n",
              "      <td>75.209999</td>\n",
              "      <td>14.150000</td>\n",
              "      <td>8.531549</td>\n",
              "      <td>6.60</td>\n",
              "    </tr>\n",
              "    <tr>\n",
              "      <th>2021-07-16</th>\n",
              "      <td>52.180000</td>\n",
              "      <td>74.000000</td>\n",
              "      <td>13.890000</td>\n",
              "      <td>8.659999</td>\n",
              "      <td>6.85</td>\n",
              "    </tr>\n",
              "    <tr>\n",
              "      <th>2021-07-19</th>\n",
              "      <td>52.450001</td>\n",
              "      <td>74.050003</td>\n",
              "      <td>13.680000</td>\n",
              "      <td>7.900000</td>\n",
              "      <td>6.65</td>\n",
              "    </tr>\n",
              "    <tr>\n",
              "      <th>2021-07-20</th>\n",
              "      <td>52.660000</td>\n",
              "      <td>74.150002</td>\n",
              "      <td>13.300000</td>\n",
              "      <td>8.330000</td>\n",
              "      <td>6.39</td>\n",
              "    </tr>\n",
              "    <tr>\n",
              "      <th>2021-07-21</th>\n",
              "      <td>51.820000</td>\n",
              "      <td>74.180000</td>\n",
              "      <td>12.970000</td>\n",
              "      <td>7.900000</td>\n",
              "      <td>6.52</td>\n",
              "    </tr>\n",
              "  </tbody>\n",
              "</table>\n",
              "<p>401 rows × 5 columns</p>\n",
              "</div>"
            ],
            "text/plain": [
              "             ALPA4.SA    CXRI11.SA   DMAC11.SA   LAME4.SA  SHOW3.SA\n",
              "Date                                                               \n",
              "2019-12-02  31.160000  1385.290039  619.900024  22.652437      5.15\n",
              "2019-12-03  31.150000  1359.900024  619.950012  22.921516      5.23\n",
              "2019-12-04  31.150000  1359.000000  620.000000  23.041107      5.24\n",
              "2019-12-05  31.299999  1410.000000  619.900024  22.961380      5.31\n",
              "2019-12-06  32.049999  1405.000000  619.450012  24.585817      5.26\n",
              "...               ...          ...         ...        ...       ...\n",
              "2021-07-15  52.220001    75.209999   14.150000   8.531549      6.60\n",
              "2021-07-16  52.180000    74.000000   13.890000   8.659999      6.85\n",
              "2021-07-19  52.450001    74.050003   13.680000   7.900000      6.65\n",
              "2021-07-20  52.660000    74.150002   13.300000   8.330000      6.39\n",
              "2021-07-21  51.820000    74.180000   12.970000   7.900000      6.52\n",
              "\n",
              "[401 rows x 5 columns]"
            ]
          },
          "metadata": {
            "tags": []
          },
          "execution_count": 84
        }
      ]
    },
    {
      "cell_type": "code",
      "metadata": {
        "id": "k4oGlxJ9zbcJ"
      },
      "source": [
        "retorno = dados_yahoo.pct_change()"
      ],
      "execution_count": null,
      "outputs": []
    }
  ]
}